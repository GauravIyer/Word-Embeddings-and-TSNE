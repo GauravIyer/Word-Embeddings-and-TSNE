{
 "cells": [
  {
   "cell_type": "code",
   "execution_count": 1,
   "metadata": {},
   "outputs": [],
   "source": [
    "import torch\n",
    "import torch.nn as nn\n",
    "import torch.nn.functional as F\n",
    "import torch.optim as optim"
   ]
  },
  {
   "cell_type": "code",
   "execution_count": 26,
   "metadata": {},
   "outputs": [],
   "source": [
    "CONTEXT_SIZE=2\n",
    "EMBEDDING_DIM=10\n",
    "\n",
    "test_sentence = \"\"\"When forty winters shall besiege thy brow,\n",
    "And dig deep trenches in thy beauty's field,\n",
    "Thy youth's proud livery so gazed on now,\n",
    "Will be a totter'd weed of small worth held:\n",
    "Then being asked, where all thy beauty lies,\n",
    "Where all the treasure of thy lusty days;\n",
    "To say, within thine own deep sunken eyes,\n",
    "Were an all-eating shame, and thriftless praise.\n",
    "How much more praise deserv'd thy beauty's use,\n",
    "If thou couldst answer 'This fair child of mine\n",
    "Shall sum my count, and make my old excuse,'\n",
    "Proving his beauty by succession thine!\n",
    "This were to be new made when thou art old,\n",
    "And see thy blood warm when thou feel'st it cold.\"\"\".split()\n",
    "\n",
    "trigrams=[([test_sentence[i],test_sentence[i+1]],test_sentence[i+2]) for i in range(len(test_sentence)-2)]\n",
    "#each tuple is (word[i-2],word[i-1],target_word)"
   ]
  },
  {
   "cell_type": "code",
   "execution_count": 27,
   "metadata": {},
   "outputs": [
    {
     "name": "stdout",
     "output_type": "stream",
     "text": [
      "[(['When', 'forty'], 'winters'), (['forty', 'winters'], 'shall'), (['winters', 'shall'], 'besiege')]\n"
     ]
    }
   ],
   "source": [
    "print(trigrams[:3])"
   ]
  },
  {
   "cell_type": "code",
   "execution_count": 28,
   "metadata": {},
   "outputs": [],
   "source": [
    "vocab=set(test_sentence)\n",
    "word_to_index={word:i for i,word in enumerate(vocab)}"
   ]
  },
  {
   "cell_type": "code",
   "execution_count": 29,
   "metadata": {},
   "outputs": [],
   "source": [
    "class NGramModel(nn.Module):\n",
    "    def __init__(self,vocab_size,embedding_dim,context_size):\n",
    "        super(NGramModel,self).__init__()\n",
    "        self.embeddings=nn.Embedding(vocab_size,embedding_dim)\n",
    "        self.lin1=nn.Linear(context_size*embedding_dim,128)\n",
    "        self.lin2=nn.Linear(128,vocab_size)\n",
    "        \n",
    "    def forward(self,inputs):\n",
    "            embeds=self.embeddings(inputs).view((1,-1))\n",
    "            out=self.lin2(F.relu(self.lin1(embeds)))\n",
    "            log_probs=F.log_softmax(out,dim=1)\n",
    "            return log_probs\n",
    "        "
   ]
  },
  {
   "cell_type": "code",
   "execution_count": 33,
   "metadata": {},
   "outputs": [],
   "source": [
    "losses=[]\n",
    "loss_function=nn.NLLLoss()\n",
    "model=NGramModel(len(vocab),EMBEDDING_DIM,CONTEXT_SIZE)\n",
    "optimizer=optim.SGD(model.parameters(),lr=0.05)"
   ]
  },
  {
   "cell_type": "code",
   "execution_count": 34,
   "metadata": {},
   "outputs": [
    {
     "name": "stdout",
     "output_type": "stream",
     "text": [
      "[534.3207297325134, 435.8582570552826, 342.53085064888, 237.2348392009735, 138.66988611221313, 70.8514986038208, 38.27174091339111, 26.091885566711426, 20.782164096832275, 17.644198417663574, 15.47004508972168, 13.874882221221924, 12.634378910064697, 11.665684700012207, 10.851101398468018, 10.184524059295654, 9.64252519607544, 9.176789283752441, 8.772738933563232, 8.421408653259277, 8.114782333374023, 7.842864036560059, 7.608011722564697, 7.395737171173096, 7.199435234069824, 7.021070957183838, 6.875173568725586, 6.716187477111816, 6.5804548263549805, 6.457371234893799, 6.354366302490234, 6.248594284057617, 6.144989967346191, 6.052016735076904, 5.968197822570801, 5.887712478637695, 5.811521053314209, 5.74103307723999, 5.675887584686279, 5.609949111938477, 5.5526628494262695, 5.493706703186035, 5.440873146057129, 5.391521453857422, 5.340738296508789, 5.293629169464111, 5.249905109405518, 5.2071075439453125, 5.169501304626465, 5.128523826599121, 5.094476699829102, 5.055548191070557, 5.021645545959473, 4.988597393035889, 4.9563422203063965, 4.927525997161865, 4.896844387054443, 4.872504234313965, 4.842392444610596, 4.818701267242432, 4.791581630706787, 4.765405178070068, 4.741852760314941, 4.7204999923706055, 4.698815822601318, 4.674631595611572, 4.654560089111328, 4.634645938873291, 4.612921237945557, 4.598283767700195, 4.575926780700684, 4.559860706329346, 4.5398335456848145, 4.522315979003906, 4.50517463684082, 4.493074417114258, 4.473278999328613, 4.4581804275512695, 4.4425435066223145, 4.4296793937683105, 4.413573741912842, 4.40276575088501, 4.385628700256348, 4.372793674468994, 4.361660957336426, 4.346970081329346, 4.333652496337891, 4.32396125793457, 4.311861991882324, 4.299193859100342, 4.287164688110352, 4.275333881378174, 4.266467094421387, 4.253814220428467, 4.242979526519775, 4.23342227935791, 4.2244720458984375, 4.215169906616211, 4.203327655792236, 4.193601131439209, 4.183952331542969, 4.174956798553467, 4.165482044219971, 4.156533241271973, 4.1478800773620605, 4.139590263366699, 4.132326126098633, 4.123714447021484, 4.114327907562256, 4.106964588165283, 4.100513458251953, 4.093332290649414, 4.085659980773926, 4.076660633087158, 4.07066011428833, 4.061291217803955, 4.0544633865356445, 4.048039436340332, 4.040096282958984, 4.0374274253845215, 4.026805877685547, 4.020328044891357, 4.013496398925781, 4.0081787109375, 4.000798225402832, 3.9946656227111816, 3.9904942512512207, 3.9827985763549805, 3.976602077484131, 3.9706478118896484, 3.9657254219055176, 3.959738254547119, 3.9537320137023926, 3.9485721588134766, 3.9428577423095703, 3.9380288124084473, 3.932009696960449, 3.926927089691162, 3.922149181365967, 3.916466236114502, 3.911355972290039, 3.9090442657470703, 3.90240478515625, 3.8967204093933105, 3.891930103302002, 3.887268543243408, 3.8823485374450684, 3.8775978088378906, 3.8730273246765137, 3.8684639930725098, 3.864400863647461, 3.8606581687927246, 3.8552656173706055, 3.8515262603759766, 3.8466949462890625, 3.8432106971740723, 3.8382444381713867, 3.8342819213867188, 3.8300838470458984, 3.8262100219726562, 3.8242945671081543, 3.8195576667785645, 3.8146939277648926, 3.8108458518981934, 3.8067378997802734, 3.8035759925842285, 3.7994465827941895, 3.7954654693603516, 3.7919063568115234, 3.7887773513793945, 3.7855043411254883, 3.7810821533203125, 3.7779054641723633, 3.7741923332214355, 3.7713375091552734, 3.767393112182617, 3.7640910148620605, 3.760645866394043, 3.757312774658203, 3.753933906555176, 3.751528263092041, 3.7489776611328125, 3.7445507049560547, 3.74202299118042, 3.7383270263671875, 3.735511302947998, 3.7321629524230957, 3.7291927337646484, 3.726022720336914, 3.723674774169922, 3.7203445434570312, 3.717196464538574, 3.7143921852111816, 3.71148681640625, 3.7088093757629395, 3.7061891555786133, 3.703767776489258, 3.7003836631774902, 3.698026657104492, 3.6964001655578613, 3.6935477256774902, 3.6896467208862305, 3.687493324279785, 3.6842617988586426, 3.6820569038391113, 3.6791176795959473, 3.676666259765625, 3.6743059158325195, 3.6714696884155273, 3.6691489219665527, 3.666505813598633, 3.6640405654907227, 3.6616783142089844, 3.6604208946228027, 3.6570897102355957, 3.6547117233276367, 3.652583599090576, 3.650607109069824, 3.647667407989502, 3.6454501152038574, 3.64359712600708, 3.640860080718994, 3.638455390930176, 3.6377878189086914, 3.6341209411621094, 3.6318345069885254, 3.629847526550293, 3.628695011138916, 3.6259641647338867, 3.623249053955078, 3.6211671829223633, 3.6191349029541016, 3.6169371604919434, 3.6149215698242188, 3.612887382507324, 3.611063003540039, 3.608832836151123, 3.6067819595336914, 3.6052732467651367, 3.6029720306396484, 3.601896286010742, 3.6000475883483887, 3.5970654487609863, 3.5964250564575195, 3.5931711196899414, 3.5912489891052246, 3.589602470397949, 3.587502956390381, 3.5858001708984375, 3.583892345428467, 3.581972599029541, 3.580202579498291, 3.5783634185791016, 3.576542854309082, 3.575277805328369, 3.574124336242676, 3.5713868141174316, 3.5700435638427734, 3.5680694580078125, 3.566128730773926, 3.5644044876098633, 3.562744140625, 3.561070442199707, 3.5592808723449707, 3.557619094848633, 3.557403564453125, 3.5545849800109863, 3.553628444671631, 3.5513105392456055, 3.549666404724121, 3.5479655265808105, 3.5470962524414062, 3.5447893142700195, 3.543241500854492, 3.541726589202881, 3.540008068084717, 3.538954734802246, 3.5390138626098633, 3.535519599914551, 3.5339083671569824, 3.5326428413391113, 3.530953884124756, 3.5298619270324707, 3.528388500213623, 3.526541233062744, 3.5249218940734863, 3.523695468902588, 3.5228257179260254, 3.520853042602539, 3.5193123817443848, 3.517817974090576, 3.516402244567871, 3.514955520629883, 3.5135016441345215, 3.5125012397766113, 3.5111169815063477, 3.509505271911621, 3.5081539154052734, 3.5066280364990234, 3.5060362815856934, 3.504214286804199, 3.503239154815674, 3.5014071464538574, 3.5000386238098145, 3.498843193054199, 3.4973883628845215, 3.4961705207824707, 3.494856357574463, 3.493628978729248, 3.492262363433838, 3.4916300773620605, 3.489720344543457, 3.4884653091430664, 3.487621307373047, 3.4860095977783203, 3.4847774505615234, 3.4834957122802734, 3.482290744781494, 3.4814510345458984, 3.4798669815063477, 3.4797749519348145, 3.477586269378662, 3.476400375366211, 3.475083827972412, 3.4738731384277344, 3.472687244415283, 3.4715232849121094, 3.4708852767944336, 3.469202995300293, 3.468061923980713, 3.467228412628174, 3.4658331871032715, 3.4656710624694824, 3.463682174682617, 3.4624061584472656, 3.4617247581481934, 3.4601926803588867, 3.4591503143310547, 3.4580135345458984, 3.4568448066711426, 3.4557557106018066, 3.4547200202941895, 3.453582286834717, 3.4525036811828613, 3.4514808654785156, 3.45127010345459, 3.449345588684082, 3.4482712745666504, 3.4483485221862793, 3.446300506591797, 3.4453835487365723, 3.444143295288086, 3.443164825439453, 3.442049503326416, 3.441013813018799, 3.4401798248291016, 3.439016819000244, 3.4380760192871094, 3.4370384216308594, 3.436006546020508, 3.435852527618408, 3.434323787689209, 3.4332103729248047, 3.4326038360595703, 3.4313526153564453, 3.4302597045898438, 3.429205894470215, 3.4283103942871094, 3.4272913932800293, 3.426286220550537, 3.4253358840942383, 3.424494743347168, 3.423527240753174, 3.4226393699645996, 3.4216580390930176, 3.420772075653076, 3.4198555946350098, 3.4189772605895996, 3.418015956878662, 3.417060375213623, 3.4165778160095215, 3.415651321411133, 3.415069103240967, 3.413539409637451, 3.4125938415527344, 3.4121179580688477, 3.4108333587646484, 3.409940242767334, 3.4091925621032715, 3.4081931114196777, 3.407618999481201, 3.4065022468566895, 3.4056177139282227, 3.404794692993164, 3.4039220809936523, 3.4030117988586426, 3.402158737182617, 3.4013185501098633, 3.400470733642578, 3.400020122528076, 3.3989367485046387, 3.3981337547302246, 3.3972086906433105, 3.3962879180908203, 3.3955464363098145, 3.3946924209594727, 3.3961334228515625, 3.3941502571105957, 3.392345905303955, 3.3916172981262207, 3.3906893730163574, 3.3898849487304688, 3.3890857696533203, 3.389270305633545, 3.387618064880371, 3.386861801147461, 3.3859825134277344, 3.3858323097229004, 3.3845114707946777, 3.3836755752563477, 3.382901191711426, 3.382178783416748, 3.3814034461975098, 3.3806028366088867, 3.379842758178711, 3.3795228004455566, 3.378347396850586, 3.3776426315307617, 3.3768129348754883, 3.3760952949523926, 3.375582218170166, 3.374659538269043, 3.373933792114258, 3.3732552528381348, 3.3724513053894043, 3.3717403411865234, 3.371065139770508, 3.3706092834472656, 3.370070457458496, 3.3688602447509766, 3.3682188987731934, 3.3674421310424805, 3.3667683601379395, 3.3660058975219727, 3.3653101921081543, 3.364612102508545, 3.3642354011535645, 3.3633108139038086, 3.3625354766845703, 3.361865997314453, 3.361158847808838, 3.3629751205444336, 3.359898090362549, 3.3592419624328613, 3.3585457801818848, 3.357790470123291, 3.3573102951049805, 3.356429100036621, 3.3560943603515625, 3.3551416397094727, 3.3544087409973145, 3.353762149810791, 3.3531785011291504, 3.3524632453918457, 3.3518552780151367, 3.3511738777160645, 3.3508191108703613, 3.349907875061035, 3.3492417335510254, 3.348707675933838, 3.3480224609375, 3.347390651702881, 3.3467140197753906, 3.346229076385498, 3.345489025115967, 3.3448734283447266, 3.344231128692627, 3.343564987182617, 3.342930793762207, 3.3425774574279785, 3.3416695594787598, 3.3410496711730957, 3.340456485748291, 3.340238094329834, 3.33921480178833, 3.3388805389404297, 3.338010787963867, 3.3376588821411133, 3.3368735313415527, 3.3371267318725586, 3.3356986045837402, 3.335043430328369, 3.3344507217407227, 3.333840847015381, 3.3332653045654297, 3.3327364921569824, 3.3320846557617188, 3.331496238708496, 3.3308963775634766, 3.3305726051330566]\n"
     ]
    }
   ],
   "source": [
    "for epoch in range(500):\n",
    "    total_loss=0\n",
    "    for context,target in trigrams:\n",
    "        context_indices=torch.tensor([word_to_index[w] for w in context],dtype=torch.long)\n",
    "        model.zero_grad()\n",
    "        log_probs=model(context_indices)\n",
    "        loss = loss_function(log_probs,torch.tensor([word_to_index[target]],dtype=torch.long))\n",
    "        loss.backward()\n",
    "        optimizer.step()\n",
    "        total_loss+=loss.item()\n",
    "    losses.append(total_loss)\n",
    "#print(losses)"
   ]
  },
  {
   "cell_type": "code",
   "execution_count": 35,
   "metadata": {},
   "outputs": [],
   "source": [
    "#outside tutorial\n",
    "from sklearn.manifold import TSNE"
   ]
  },
  {
   "cell_type": "code",
   "execution_count": 36,
   "metadata": {},
   "outputs": [],
   "source": [
    "tsne=TSNE()"
   ]
  },
  {
   "cell_type": "code",
   "execution_count": 43,
   "metadata": {},
   "outputs": [
    {
     "name": "stdout",
     "output_type": "stream",
     "text": [
      "tensor([64])\n"
     ]
    }
   ],
   "source": [
    "lookup_tensor = torch.tensor([word_to_index[\"forty\"]], dtype=torch.long)\n",
    "print(lookup_tensor)"
   ]
  },
  {
   "cell_type": "code",
   "execution_count": 51,
   "metadata": {},
   "outputs": [
    {
     "data": {
      "text/plain": [
       "tensor([ 2.5619, -0.3383, -1.8246, -0.7473, -0.4039,  0.7829,  1.1083,  0.1823,\n",
       "         1.0890,  0.8268], grad_fn=<SelectBackward>)"
      ]
     },
     "execution_count": 51,
     "metadata": {},
     "output_type": "execute_result"
    }
   ],
   "source": [
    "model.embeddings.weight[word_to_index[\"When\"]]"
   ]
  },
  {
   "cell_type": "code",
   "execution_count": 78,
   "metadata": {},
   "outputs": [],
   "source": [
    "tokens=[]\n",
    "for context,_ in trigrams:\n",
    "    context_indices=torch.tensor([word_to_index[w] for w in context],dtype=torch.long)\n",
    "    log_probs=model(context_indices)\n",
    "    tokens.append(log_probs)"
   ]
  },
  {
   "cell_type": "code",
   "execution_count": 72,
   "metadata": {},
   "outputs": [
    {
     "name": "stdout",
     "output_type": "stream",
     "text": [
      "Computing t-SNE embedding\n"
     ]
    },
    {
     "ename": "ValueError",
     "evalue": "Found array with 1 sample(s) (shape=(1, 97)) while a minimum of 2 is required.",
     "output_type": "error",
     "traceback": [
      "\u001b[1;31m---------------------------------------------------------------------------\u001b[0m",
      "\u001b[1;31mValueError\u001b[0m                                Traceback (most recent call last)",
      "\u001b[1;32m<ipython-input-72-40e6c1bfc5c3>\u001b[0m in \u001b[0;36m<module>\u001b[1;34m\u001b[0m\n\u001b[0;32m      1\u001b[0m \u001b[0mprint\u001b[0m\u001b[1;33m(\u001b[0m\u001b[1;34m\"Computing t-SNE embedding\"\u001b[0m\u001b[1;33m)\u001b[0m\u001b[1;33m\u001b[0m\u001b[1;33m\u001b[0m\u001b[0m\n\u001b[0;32m      2\u001b[0m \u001b[0mtsne\u001b[0m \u001b[1;33m=\u001b[0m \u001b[0mTSNE\u001b[0m\u001b[1;33m(\u001b[0m\u001b[0mperplexity\u001b[0m\u001b[1;33m=\u001b[0m\u001b[1;36m40\u001b[0m\u001b[1;33m,\u001b[0m \u001b[0mn_components\u001b[0m\u001b[1;33m=\u001b[0m\u001b[1;36m2\u001b[0m\u001b[1;33m,\u001b[0m \u001b[0minit\u001b[0m\u001b[1;33m=\u001b[0m\u001b[1;34m'pca'\u001b[0m\u001b[1;33m,\u001b[0m \u001b[0mn_iter\u001b[0m\u001b[1;33m=\u001b[0m\u001b[1;36m2500\u001b[0m\u001b[1;33m,\u001b[0m \u001b[0mrandom_state\u001b[0m\u001b[1;33m=\u001b[0m\u001b[1;36m23\u001b[0m\u001b[1;33m)\u001b[0m\u001b[1;33m\u001b[0m\u001b[1;33m\u001b[0m\u001b[0m\n\u001b[1;32m----> 3\u001b[1;33m \u001b[0mnew_values\u001b[0m \u001b[1;33m=\u001b[0m \u001b[0mtsne\u001b[0m\u001b[1;33m.\u001b[0m\u001b[0mfit_transform\u001b[0m\u001b[1;33m(\u001b[0m\u001b[0mtokens\u001b[0m\u001b[1;33m)\u001b[0m\u001b[1;33m\u001b[0m\u001b[1;33m\u001b[0m\u001b[0m\n\u001b[0m",
      "\u001b[1;32m~\\AppData\\Local\\Continuum\\anaconda3\\envs\\env1\\lib\\site-packages\\sklearn\\manifold\\t_sne.py\u001b[0m in \u001b[0;36mfit_transform\u001b[1;34m(self, X, y)\u001b[0m\n\u001b[0;32m    892\u001b[0m             \u001b[0mEmbedding\u001b[0m \u001b[0mof\u001b[0m \u001b[0mthe\u001b[0m \u001b[0mtraining\u001b[0m \u001b[0mdata\u001b[0m \u001b[1;32min\u001b[0m \u001b[0mlow\u001b[0m\u001b[1;33m-\u001b[0m\u001b[0mdimensional\u001b[0m \u001b[0mspace\u001b[0m\u001b[1;33m.\u001b[0m\u001b[1;33m\u001b[0m\u001b[1;33m\u001b[0m\u001b[0m\n\u001b[0;32m    893\u001b[0m         \"\"\"\n\u001b[1;32m--> 894\u001b[1;33m         \u001b[0membedding\u001b[0m \u001b[1;33m=\u001b[0m \u001b[0mself\u001b[0m\u001b[1;33m.\u001b[0m\u001b[0m_fit\u001b[0m\u001b[1;33m(\u001b[0m\u001b[0mX\u001b[0m\u001b[1;33m)\u001b[0m\u001b[1;33m\u001b[0m\u001b[1;33m\u001b[0m\u001b[0m\n\u001b[0m\u001b[0;32m    895\u001b[0m         \u001b[0mself\u001b[0m\u001b[1;33m.\u001b[0m\u001b[0membedding_\u001b[0m \u001b[1;33m=\u001b[0m \u001b[0membedding\u001b[0m\u001b[1;33m\u001b[0m\u001b[1;33m\u001b[0m\u001b[0m\n\u001b[0;32m    896\u001b[0m         \u001b[1;32mreturn\u001b[0m \u001b[0mself\u001b[0m\u001b[1;33m.\u001b[0m\u001b[0membedding_\u001b[0m\u001b[1;33m\u001b[0m\u001b[1;33m\u001b[0m\u001b[0m\n",
      "\u001b[1;32m~\\AppData\\Local\\Continuum\\anaconda3\\envs\\env1\\lib\\site-packages\\sklearn\\manifold\\t_sne.py\u001b[0m in \u001b[0;36m_fit\u001b[1;34m(self, X, skip_num_points)\u001b[0m\n\u001b[0;32m    691\u001b[0m         \u001b[1;32mif\u001b[0m \u001b[0mself\u001b[0m\u001b[1;33m.\u001b[0m\u001b[0mmethod\u001b[0m \u001b[1;33m==\u001b[0m \u001b[1;34m'barnes_hut'\u001b[0m\u001b[1;33m:\u001b[0m\u001b[1;33m\u001b[0m\u001b[1;33m\u001b[0m\u001b[0m\n\u001b[0;32m    692\u001b[0m             X = check_array(X, ensure_min_samples=2,\n\u001b[1;32m--> 693\u001b[1;33m                             dtype=[np.float32, np.float64])\n\u001b[0m\u001b[0;32m    694\u001b[0m         \u001b[1;32melse\u001b[0m\u001b[1;33m:\u001b[0m\u001b[1;33m\u001b[0m\u001b[1;33m\u001b[0m\u001b[0m\n\u001b[0;32m    695\u001b[0m             X = check_array(X, accept_sparse=['csr', 'csc', 'coo'],\n",
      "\u001b[1;32m~\\AppData\\Local\\Continuum\\anaconda3\\envs\\env1\\lib\\site-packages\\sklearn\\utils\\validation.py\u001b[0m in \u001b[0;36mcheck_array\u001b[1;34m(array, accept_sparse, accept_large_sparse, dtype, order, copy, force_all_finite, ensure_2d, allow_nd, ensure_min_samples, ensure_min_features, warn_on_dtype, estimator)\u001b[0m\n\u001b[0;32m    580\u001b[0m                              \u001b[1;34m\" minimum of %d is required%s.\"\u001b[0m\u001b[1;33m\u001b[0m\u001b[1;33m\u001b[0m\u001b[0m\n\u001b[0;32m    581\u001b[0m                              % (n_samples, shape_repr, ensure_min_samples,\n\u001b[1;32m--> 582\u001b[1;33m                                 context))\n\u001b[0m\u001b[0;32m    583\u001b[0m \u001b[1;33m\u001b[0m\u001b[0m\n\u001b[0;32m    584\u001b[0m     \u001b[1;32mif\u001b[0m \u001b[0mensure_min_features\u001b[0m \u001b[1;33m>\u001b[0m \u001b[1;36m0\u001b[0m \u001b[1;32mand\u001b[0m \u001b[0marray\u001b[0m\u001b[1;33m.\u001b[0m\u001b[0mndim\u001b[0m \u001b[1;33m==\u001b[0m \u001b[1;36m2\u001b[0m\u001b[1;33m:\u001b[0m\u001b[1;33m\u001b[0m\u001b[1;33m\u001b[0m\u001b[0m\n",
      "\u001b[1;31mValueError\u001b[0m: Found array with 1 sample(s) (shape=(1, 97)) while a minimum of 2 is required."
     ]
    }
   ],
   "source": [
    "print(\"Computing t-SNE embedding\")\n",
    "tsne = TSNE(perplexity=40, n_components=2, init='pca', n_iter=2500, random_state=23)\n",
    "new_values = tsne.fit_transform(tokens)"
   ]
  },
  {
   "cell_type": "code",
   "execution_count": 69,
   "metadata": {},
   "outputs": [
    {
     "ename": "RuntimeError",
     "evalue": "size mismatch, m1: [1 x 10], m2: [20 x 128] at c:\\a\\w\\1\\s\\tmp_conda_3.7_110206\\conda\\conda-bld\\pytorch_1550401474361\\work\\aten\\src\\th\\generic/THTensorMath.cpp:940",
     "output_type": "error",
     "traceback": [
      "\u001b[1;31m---------------------------------------------------------------------------\u001b[0m",
      "\u001b[1;31mRuntimeError\u001b[0m                              Traceback (most recent call last)",
      "\u001b[1;32m<ipython-input-69-fed488342f24>\u001b[0m in \u001b[0;36m<module>\u001b[1;34m\u001b[0m\n\u001b[1;32m----> 1\u001b[1;33m \u001b[0mprint\u001b[0m\u001b[1;33m(\u001b[0m\u001b[0mmodel\u001b[0m\u001b[1;33m(\u001b[0m\u001b[0mtorch\u001b[0m\u001b[1;33m.\u001b[0m\u001b[0mtensor\u001b[0m\u001b[1;33m(\u001b[0m\u001b[1;36m23\u001b[0m\u001b[1;33m)\u001b[0m\u001b[1;33m)\u001b[0m\u001b[1;33m)\u001b[0m\u001b[1;33m\u001b[0m\u001b[1;33m\u001b[0m\u001b[0m\n\u001b[0m",
      "\u001b[1;32m~\\AppData\\Local\\Continuum\\anaconda3\\envs\\env1\\lib\\site-packages\\torch\\nn\\modules\\module.py\u001b[0m in \u001b[0;36m__call__\u001b[1;34m(self, *input, **kwargs)\u001b[0m\n\u001b[0;32m    487\u001b[0m             \u001b[0mresult\u001b[0m \u001b[1;33m=\u001b[0m \u001b[0mself\u001b[0m\u001b[1;33m.\u001b[0m\u001b[0m_slow_forward\u001b[0m\u001b[1;33m(\u001b[0m\u001b[1;33m*\u001b[0m\u001b[0minput\u001b[0m\u001b[1;33m,\u001b[0m \u001b[1;33m**\u001b[0m\u001b[0mkwargs\u001b[0m\u001b[1;33m)\u001b[0m\u001b[1;33m\u001b[0m\u001b[1;33m\u001b[0m\u001b[0m\n\u001b[0;32m    488\u001b[0m         \u001b[1;32melse\u001b[0m\u001b[1;33m:\u001b[0m\u001b[1;33m\u001b[0m\u001b[1;33m\u001b[0m\u001b[0m\n\u001b[1;32m--> 489\u001b[1;33m             \u001b[0mresult\u001b[0m \u001b[1;33m=\u001b[0m \u001b[0mself\u001b[0m\u001b[1;33m.\u001b[0m\u001b[0mforward\u001b[0m\u001b[1;33m(\u001b[0m\u001b[1;33m*\u001b[0m\u001b[0minput\u001b[0m\u001b[1;33m,\u001b[0m \u001b[1;33m**\u001b[0m\u001b[0mkwargs\u001b[0m\u001b[1;33m)\u001b[0m\u001b[1;33m\u001b[0m\u001b[1;33m\u001b[0m\u001b[0m\n\u001b[0m\u001b[0;32m    490\u001b[0m         \u001b[1;32mfor\u001b[0m \u001b[0mhook\u001b[0m \u001b[1;32min\u001b[0m \u001b[0mself\u001b[0m\u001b[1;33m.\u001b[0m\u001b[0m_forward_hooks\u001b[0m\u001b[1;33m.\u001b[0m\u001b[0mvalues\u001b[0m\u001b[1;33m(\u001b[0m\u001b[1;33m)\u001b[0m\u001b[1;33m:\u001b[0m\u001b[1;33m\u001b[0m\u001b[1;33m\u001b[0m\u001b[0m\n\u001b[0;32m    491\u001b[0m             \u001b[0mhook_result\u001b[0m \u001b[1;33m=\u001b[0m \u001b[0mhook\u001b[0m\u001b[1;33m(\u001b[0m\u001b[0mself\u001b[0m\u001b[1;33m,\u001b[0m \u001b[0minput\u001b[0m\u001b[1;33m,\u001b[0m \u001b[0mresult\u001b[0m\u001b[1;33m)\u001b[0m\u001b[1;33m\u001b[0m\u001b[1;33m\u001b[0m\u001b[0m\n",
      "\u001b[1;32m<ipython-input-29-4f33fdefaabb>\u001b[0m in \u001b[0;36mforward\u001b[1;34m(self, inputs)\u001b[0m\n\u001b[0;32m      8\u001b[0m     \u001b[1;32mdef\u001b[0m \u001b[0mforward\u001b[0m\u001b[1;33m(\u001b[0m\u001b[0mself\u001b[0m\u001b[1;33m,\u001b[0m\u001b[0minputs\u001b[0m\u001b[1;33m)\u001b[0m\u001b[1;33m:\u001b[0m\u001b[1;33m\u001b[0m\u001b[1;33m\u001b[0m\u001b[0m\n\u001b[0;32m      9\u001b[0m             \u001b[0membeds\u001b[0m\u001b[1;33m=\u001b[0m\u001b[0mself\u001b[0m\u001b[1;33m.\u001b[0m\u001b[0membeddings\u001b[0m\u001b[1;33m(\u001b[0m\u001b[0minputs\u001b[0m\u001b[1;33m)\u001b[0m\u001b[1;33m.\u001b[0m\u001b[0mview\u001b[0m\u001b[1;33m(\u001b[0m\u001b[1;33m(\u001b[0m\u001b[1;36m1\u001b[0m\u001b[1;33m,\u001b[0m\u001b[1;33m-\u001b[0m\u001b[1;36m1\u001b[0m\u001b[1;33m)\u001b[0m\u001b[1;33m)\u001b[0m\u001b[1;33m\u001b[0m\u001b[1;33m\u001b[0m\u001b[0m\n\u001b[1;32m---> 10\u001b[1;33m             \u001b[0mout\u001b[0m\u001b[1;33m=\u001b[0m\u001b[0mself\u001b[0m\u001b[1;33m.\u001b[0m\u001b[0mlin2\u001b[0m\u001b[1;33m(\u001b[0m\u001b[0mF\u001b[0m\u001b[1;33m.\u001b[0m\u001b[0mrelu\u001b[0m\u001b[1;33m(\u001b[0m\u001b[0mself\u001b[0m\u001b[1;33m.\u001b[0m\u001b[0mlin1\u001b[0m\u001b[1;33m(\u001b[0m\u001b[0membeds\u001b[0m\u001b[1;33m)\u001b[0m\u001b[1;33m)\u001b[0m\u001b[1;33m)\u001b[0m\u001b[1;33m\u001b[0m\u001b[1;33m\u001b[0m\u001b[0m\n\u001b[0m\u001b[0;32m     11\u001b[0m             \u001b[0mlog_probs\u001b[0m\u001b[1;33m=\u001b[0m\u001b[0mF\u001b[0m\u001b[1;33m.\u001b[0m\u001b[0mlog_softmax\u001b[0m\u001b[1;33m(\u001b[0m\u001b[0mout\u001b[0m\u001b[1;33m,\u001b[0m\u001b[0mdim\u001b[0m\u001b[1;33m=\u001b[0m\u001b[1;36m1\u001b[0m\u001b[1;33m)\u001b[0m\u001b[1;33m\u001b[0m\u001b[1;33m\u001b[0m\u001b[0m\n\u001b[0;32m     12\u001b[0m             \u001b[1;32mreturn\u001b[0m \u001b[0mlog_probs\u001b[0m\u001b[1;33m\u001b[0m\u001b[1;33m\u001b[0m\u001b[0m\n",
      "\u001b[1;32m~\\AppData\\Local\\Continuum\\anaconda3\\envs\\env1\\lib\\site-packages\\torch\\nn\\modules\\module.py\u001b[0m in \u001b[0;36m__call__\u001b[1;34m(self, *input, **kwargs)\u001b[0m\n\u001b[0;32m    487\u001b[0m             \u001b[0mresult\u001b[0m \u001b[1;33m=\u001b[0m \u001b[0mself\u001b[0m\u001b[1;33m.\u001b[0m\u001b[0m_slow_forward\u001b[0m\u001b[1;33m(\u001b[0m\u001b[1;33m*\u001b[0m\u001b[0minput\u001b[0m\u001b[1;33m,\u001b[0m \u001b[1;33m**\u001b[0m\u001b[0mkwargs\u001b[0m\u001b[1;33m)\u001b[0m\u001b[1;33m\u001b[0m\u001b[1;33m\u001b[0m\u001b[0m\n\u001b[0;32m    488\u001b[0m         \u001b[1;32melse\u001b[0m\u001b[1;33m:\u001b[0m\u001b[1;33m\u001b[0m\u001b[1;33m\u001b[0m\u001b[0m\n\u001b[1;32m--> 489\u001b[1;33m             \u001b[0mresult\u001b[0m \u001b[1;33m=\u001b[0m \u001b[0mself\u001b[0m\u001b[1;33m.\u001b[0m\u001b[0mforward\u001b[0m\u001b[1;33m(\u001b[0m\u001b[1;33m*\u001b[0m\u001b[0minput\u001b[0m\u001b[1;33m,\u001b[0m \u001b[1;33m**\u001b[0m\u001b[0mkwargs\u001b[0m\u001b[1;33m)\u001b[0m\u001b[1;33m\u001b[0m\u001b[1;33m\u001b[0m\u001b[0m\n\u001b[0m\u001b[0;32m    490\u001b[0m         \u001b[1;32mfor\u001b[0m \u001b[0mhook\u001b[0m \u001b[1;32min\u001b[0m \u001b[0mself\u001b[0m\u001b[1;33m.\u001b[0m\u001b[0m_forward_hooks\u001b[0m\u001b[1;33m.\u001b[0m\u001b[0mvalues\u001b[0m\u001b[1;33m(\u001b[0m\u001b[1;33m)\u001b[0m\u001b[1;33m:\u001b[0m\u001b[1;33m\u001b[0m\u001b[1;33m\u001b[0m\u001b[0m\n\u001b[0;32m    491\u001b[0m             \u001b[0mhook_result\u001b[0m \u001b[1;33m=\u001b[0m \u001b[0mhook\u001b[0m\u001b[1;33m(\u001b[0m\u001b[0mself\u001b[0m\u001b[1;33m,\u001b[0m \u001b[0minput\u001b[0m\u001b[1;33m,\u001b[0m \u001b[0mresult\u001b[0m\u001b[1;33m)\u001b[0m\u001b[1;33m\u001b[0m\u001b[1;33m\u001b[0m\u001b[0m\n",
      "\u001b[1;32m~\\AppData\\Local\\Continuum\\anaconda3\\envs\\env1\\lib\\site-packages\\torch\\nn\\modules\\linear.py\u001b[0m in \u001b[0;36mforward\u001b[1;34m(self, input)\u001b[0m\n\u001b[0;32m     65\u001b[0m     \u001b[1;33m@\u001b[0m\u001b[0mweak_script_method\u001b[0m\u001b[1;33m\u001b[0m\u001b[1;33m\u001b[0m\u001b[0m\n\u001b[0;32m     66\u001b[0m     \u001b[1;32mdef\u001b[0m \u001b[0mforward\u001b[0m\u001b[1;33m(\u001b[0m\u001b[0mself\u001b[0m\u001b[1;33m,\u001b[0m \u001b[0minput\u001b[0m\u001b[1;33m)\u001b[0m\u001b[1;33m:\u001b[0m\u001b[1;33m\u001b[0m\u001b[1;33m\u001b[0m\u001b[0m\n\u001b[1;32m---> 67\u001b[1;33m         \u001b[1;32mreturn\u001b[0m \u001b[0mF\u001b[0m\u001b[1;33m.\u001b[0m\u001b[0mlinear\u001b[0m\u001b[1;33m(\u001b[0m\u001b[0minput\u001b[0m\u001b[1;33m,\u001b[0m \u001b[0mself\u001b[0m\u001b[1;33m.\u001b[0m\u001b[0mweight\u001b[0m\u001b[1;33m,\u001b[0m \u001b[0mself\u001b[0m\u001b[1;33m.\u001b[0m\u001b[0mbias\u001b[0m\u001b[1;33m)\u001b[0m\u001b[1;33m\u001b[0m\u001b[1;33m\u001b[0m\u001b[0m\n\u001b[0m\u001b[0;32m     68\u001b[0m \u001b[1;33m\u001b[0m\u001b[0m\n\u001b[0;32m     69\u001b[0m     \u001b[1;32mdef\u001b[0m \u001b[0mextra_repr\u001b[0m\u001b[1;33m(\u001b[0m\u001b[0mself\u001b[0m\u001b[1;33m)\u001b[0m\u001b[1;33m:\u001b[0m\u001b[1;33m\u001b[0m\u001b[1;33m\u001b[0m\u001b[0m\n",
      "\u001b[1;32m~\\AppData\\Local\\Continuum\\anaconda3\\envs\\env1\\lib\\site-packages\\torch\\nn\\functional.py\u001b[0m in \u001b[0;36mlinear\u001b[1;34m(input, weight, bias)\u001b[0m\n\u001b[0;32m   1350\u001b[0m     \u001b[1;32mif\u001b[0m \u001b[0minput\u001b[0m\u001b[1;33m.\u001b[0m\u001b[0mdim\u001b[0m\u001b[1;33m(\u001b[0m\u001b[1;33m)\u001b[0m \u001b[1;33m==\u001b[0m \u001b[1;36m2\u001b[0m \u001b[1;32mand\u001b[0m \u001b[0mbias\u001b[0m \u001b[1;32mis\u001b[0m \u001b[1;32mnot\u001b[0m \u001b[1;32mNone\u001b[0m\u001b[1;33m:\u001b[0m\u001b[1;33m\u001b[0m\u001b[1;33m\u001b[0m\u001b[0m\n\u001b[0;32m   1351\u001b[0m         \u001b[1;31m# fused op is marginally faster\u001b[0m\u001b[1;33m\u001b[0m\u001b[1;33m\u001b[0m\u001b[1;33m\u001b[0m\u001b[0m\n\u001b[1;32m-> 1352\u001b[1;33m         \u001b[0mret\u001b[0m \u001b[1;33m=\u001b[0m \u001b[0mtorch\u001b[0m\u001b[1;33m.\u001b[0m\u001b[0maddmm\u001b[0m\u001b[1;33m(\u001b[0m\u001b[0mtorch\u001b[0m\u001b[1;33m.\u001b[0m\u001b[0mjit\u001b[0m\u001b[1;33m.\u001b[0m\u001b[0m_unwrap_optional\u001b[0m\u001b[1;33m(\u001b[0m\u001b[0mbias\u001b[0m\u001b[1;33m)\u001b[0m\u001b[1;33m,\u001b[0m \u001b[0minput\u001b[0m\u001b[1;33m,\u001b[0m \u001b[0mweight\u001b[0m\u001b[1;33m.\u001b[0m\u001b[0mt\u001b[0m\u001b[1;33m(\u001b[0m\u001b[1;33m)\u001b[0m\u001b[1;33m)\u001b[0m\u001b[1;33m\u001b[0m\u001b[1;33m\u001b[0m\u001b[0m\n\u001b[0m\u001b[0;32m   1353\u001b[0m     \u001b[1;32melse\u001b[0m\u001b[1;33m:\u001b[0m\u001b[1;33m\u001b[0m\u001b[1;33m\u001b[0m\u001b[0m\n\u001b[0;32m   1354\u001b[0m         \u001b[0moutput\u001b[0m \u001b[1;33m=\u001b[0m \u001b[0minput\u001b[0m\u001b[1;33m.\u001b[0m\u001b[0mmatmul\u001b[0m\u001b[1;33m(\u001b[0m\u001b[0mweight\u001b[0m\u001b[1;33m.\u001b[0m\u001b[0mt\u001b[0m\u001b[1;33m(\u001b[0m\u001b[1;33m)\u001b[0m\u001b[1;33m)\u001b[0m\u001b[1;33m\u001b[0m\u001b[1;33m\u001b[0m\u001b[0m\n",
      "\u001b[1;31mRuntimeError\u001b[0m: size mismatch, m1: [1 x 10], m2: [20 x 128] at c:\\a\\w\\1\\s\\tmp_conda_3.7_110206\\conda\\conda-bld\\pytorch_1550401474361\\work\\aten\\src\\th\\generic/THTensorMath.cpp:940"
     ]
    }
   ],
   "source": []
  },
  {
   "cell_type": "code",
   "execution_count": null,
   "metadata": {},
   "outputs": [],
   "source": []
  }
 ],
 "metadata": {
  "kernelspec": {
   "display_name": "Python 3",
   "language": "python",
   "name": "python3"
  },
  "language_info": {
   "codemirror_mode": {
    "name": "ipython",
    "version": 3
   },
   "file_extension": ".py",
   "mimetype": "text/x-python",
   "name": "python",
   "nbconvert_exporter": "python",
   "pygments_lexer": "ipython3",
   "version": "3.7.3"
  }
 },
 "nbformat": 4,
 "nbformat_minor": 2
}
